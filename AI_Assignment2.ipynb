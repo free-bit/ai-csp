{
 "cells": [
  {
   "cell_type": "markdown",
   "metadata": {},
   "source": [
    "# Programming Exercise 2: Constraint Satisfaction Problem"
   ]
  },
  {
   "cell_type": "markdown",
   "metadata": {},
   "source": [
    "<div class=\"alert alert-info\">\n",
    "    <h3>Please read the following important information before starting with the programming exercise: </h3>\n",
    "    <p>In order to avoid problems with the relative file path we recommend to place the provided notebook and csp_programming_exercise.py file in the rootfolder of your <b>aima repository</b>.</p> \n",
    "    <p>Do not use/install any additional packages, which are not provided in the requirements.txt of the  <b>aima repository</b>. </p>\n",
    "    <p>For modelling the constraint satisfaction problem you will have to define some variables. Do not change the names of variables that we provided you! Since we use these variables for an automatic evaluation, changing  variable names will result in failing the programming exercise. </p>\n",
    "    <p>Do not modify the example with the TWO + TWO = FOUR problem!</p>\n",
    "    <p>Do not modify the csp_programming_exercise.py!</p>\n",
    "    <p>After completing the exercise, download this jupyter notebook as *.py file (File &rarr; Download as \t&rarr; Python (.py)) </p>\n",
    "    <p>Before uploading this file together with your jupyter notebook to moodle, check if you can run <i>'python AI_Assignment2.py'</i> inside your anaconda environment in the root folder of your <b>aima repository</b>. If we are not able to run your submitted files in an environment with the packages provided by the requirements.txt of the <b>aima repository</b>, you will fail the programming exercise.</p>\n",
    "    \n",
    "</div>"
   ]
  },
  {
   "cell_type": "markdown",
   "metadata": {},
   "source": [
    "## Initialization"
   ]
  },
  {
   "cell_type": "code",
   "execution_count": null,
   "metadata": {},
   "outputs": [],
   "source": [
    "# Do not change this part.\n",
    "from csp_programming_exercise import *\n",
    "import sys, os\n",
    "sys.path.append(os.path.realpath(\"aima\"))"
   ]
  },
  {
   "cell_type": "markdown",
   "metadata": {},
   "source": [
    "## Example for Solving a Constraint Satisfaction Problem"
   ]
  },
  {
   "cell_type": "markdown",
   "metadata": {},
   "source": [
    "In this exercise we are going to construct the Science Fair problem as a constraint satisfaction problem in Python using the csp library. The \"TWO + TWO = FOUR\" problem from the exercise (see Problem 3.4) will help us to understand how to model a constraint satisfaction problem with this library.\n"
   ]
  },
  {
   "cell_type": "markdown",
   "metadata": {},
   "source": [
    "### Constructing the Domains: TWO + TWO = FOUR"
   ]
  },
  {
   "cell_type": "markdown",
   "metadata": {},
   "source": [
    "We start with constructing the domains for our problem. As an example the domains for the TWO + TWO = FOUR- problem from the csp library are given. "
   ]
  },
  {
   "cell_type": "code",
   "execution_count": null,
   "metadata": {},
   "outputs": [],
   "source": [
    "# Do not change this part\n",
    "# Here we form the domains for the variables: T, F, W, O, U, R, C1, C2 and C3\n",
    "# Domains are formed using key-value pairs,\n",
    "# where the key stands for the variable and the value is for the possible values\n",
    "# set(range(1, 4)) is a short way of creating an array with numbers from 1 to 4\n",
    "# set (range(1, 4)) == [1, 2, 3]\n",
    "# Tip: Remember that you can construct arrays with any variable types\n",
    "\n",
    "domains_TF = {'T': set(range(1, 10)),\n",
    "           'F': set(range(1, 10)),\n",
    "           'W': set(range(0, 10)),\n",
    "           'O': set(range(0, 10)),\n",
    "           'U': set(range(0, 10)),\n",
    "           'R': set(range(0, 10)),\n",
    "           'C1': set(range(0, 2)), \n",
    "           'C2': set(range(0, 2)), \n",
    "           'C3': set(range(0, 2))\n",
    "}"
   ]
  },
  {
   "cell_type": "markdown",
   "metadata": {},
   "source": [
    "### Constructing the Constraints: TWO + TWO = FOUR"
   ]
  },
  {
   "cell_type": "markdown",
   "metadata": {},
   "source": [
    "We continue with defining the constraints for our problem, the most important part of any constraint satisfaction problem. Let's take a look at the constraints for our \"TWO + TWO = FOUR\" problem to give you some insight about how to construct constraints with the csp library."
   ]
  },
  {
   "cell_type": "code",
   "execution_count": null,
   "metadata": {},
   "outputs": [],
   "source": [
    "# Do not change this part\n",
    "# Here we define our constraints\n",
    "# The constraint constructor of csp takes two arguments:\n",
    "# 1. The variables that take part in the constraint\n",
    "# 2. The constraint itself which is a function that takes the variables as arguments and returns true or false\n",
    "# all_diff and eq are functions defined in csp \n",
    "# Like their name suggest all_diff returns true if every value is different\n",
    "# and eq returns true if the two values are equal\n",
    "# Tip: Take a look at the lambda operator in python https://www.w3schools.com/python/python_lambda.asp\n",
    "\n",
    "\n",
    "constraint1_TF = Constraint(('T', 'F', 'W', 'O', 'U', 'R'), all_diff)\n",
    "constraint2_TF = Constraint(('O', 'R', 'C1'), lambda o, r, c1: o + o == r + 10 * c1)\n",
    "constraint3_TF = Constraint(('W', 'U', 'C1', 'C2'), lambda w, u, c1, c2: c1 + w + w == u + 10 * c2)\n",
    "constraint4_TF = Constraint(('T', 'O', 'C2', 'C3'), lambda t, o, c2, c3: c2 + t + t == o + 10 * c3)\n",
    "constraint5_TF = Constraint(('F', 'C3'), eq)"
   ]
  },
  {
   "cell_type": "markdown",
   "metadata": {},
   "source": [
    "### Combine the constraints and set up the TWO + TWO = FOUR Problem"
   ]
  },
  {
   "cell_type": "code",
   "execution_count": null,
   "metadata": {},
   "outputs": [],
   "source": [
    "# Do not change this part\n",
    "# TWO + TWO = FOUR Problem\n",
    "two_four_constraints = [constraint1_TF, constraint2_TF, constraint3_TF, constraint4_TF, constraint5_TF]\n",
    "two_four = NaryCSP(domains_TF, two_four_constraints)\n"
   ]
  },
  {
   "cell_type": "markdown",
   "metadata": {},
   "source": [
    "### Solve the TWO + TWO = FOUR Problem"
   ]
  },
  {
   "cell_type": "code",
   "execution_count": null,
   "metadata": {},
   "outputs": [],
   "source": [
    "# Do not change this part\n",
    "ac_search_solver(two_four)"
   ]
  },
  {
   "cell_type": "markdown",
   "metadata": {},
   "source": [
    "## Programming Exercise Science Fair "
   ]
  },
  {
   "cell_type": "markdown",
   "metadata": {},
   "source": [
    "### Constructing the Domains: Science Fair"
   ]
  },
  {
   "cell_type": "code",
   "execution_count": null,
   "metadata": {},
   "outputs": [],
   "source": [
    "# Define your domains here"
   ]
  },
  {
   "cell_type": "markdown",
   "metadata": {},
   "source": [
    "### Constructing the Constraints: Science Fair"
   ]
  },
  {
   "cell_type": "code",
   "execution_count": null,
   "metadata": {},
   "outputs": [],
   "source": [
    "# Define your constraints here"
   ]
  },
  {
   "cell_type": "markdown",
   "metadata": {},
   "source": [
    "### Combine the constraints and set up the CSPs for the different problems"
   ]
  },
  {
   "cell_type": "markdown",
   "metadata": {},
   "source": [
    "<div class=\"alert alert-info\">\n",
    "    <p>The variables csp_21, csp_22, .. are defined for setting up the CSPs for the corresponding problems. You have to use these variable names otherwise this will result in failing the programming exercise. For setting up the CSPs, you have to use the NaryCSP class (without any modifications) from the module csp_programming_exercise which was imported before. </p> \n",
    "</div>"
   ]
  },
  {
   "cell_type": "code",
   "execution_count": null,
   "metadata": {},
   "outputs": [],
   "source": [
    "# Construct the Science Fair Problems\n",
    "\n",
    "# Combine Constraints and set up the csp for Problem 2.1\n",
    "# TODO: csp_21 = \n",
    "\n",
    "# Combine Constraints and set up the csp for Problem 2.2 \n",
    "# TODO: csp_22 =\n",
    "\n",
    "# Combine Constraints and set up the csp for Problem 2.3\n",
    "# TODO: csp_23 = \n",
    "\n",
    "# Combine Constraints and set up the csp for Problem 2.4\n",
    "# TODO: csp_24 =\n",
    "\n",
    "# Combine Constraints and set up the csp for Problem 2.5\n",
    "# TODO: csp_25 =\n",
    "\n",
    "# Combine Constraints and set up the csp for Problem 2.6\n",
    "# TODO: csp_26 =\n"
   ]
  },
  {
   "cell_type": "markdown",
   "metadata": {},
   "source": [
    "### Solving the CSP"
   ]
  },
  {
   "cell_type": "markdown",
   "metadata": {},
   "source": [
    "<div class=\"alert alert-info\">\n",
    "    <p>Do not change the following cell. If you can't execute the following cell, you may have renamed the variables defined by us.</p> \n",
    "</div>"
   ]
  },
  {
   "cell_type": "code",
   "execution_count": null,
   "metadata": {},
   "outputs": [],
   "source": [
    "print(ac_search_solver(csp_21))\n",
    "print(ac_search_solver(csp_22))\n",
    "print(ac_search_solver(csp_23))\n",
    "print(ac_search_solver(csp_24))\n",
    "print(ac_search_solver(csp_25))\n",
    "print(ac_search_solver(csp_26))"
   ]
  }
 ],
 "metadata": {
  "celltoolbar": "Raw Cell Format",
  "kernelspec": {
   "display_name": "Python 3",
   "language": "python",
   "name": "python3"
  },
  "language_info": {
   "codemirror_mode": {
    "name": "ipython",
    "version": 3
   },
   "file_extension": ".py",
   "mimetype": "text/x-python",
   "name": "python",
   "nbconvert_exporter": "python",
   "pygments_lexer": "ipython3",
   "version": "3.6.9"
  }
 },
 "nbformat": 4,
 "nbformat_minor": 2
}
